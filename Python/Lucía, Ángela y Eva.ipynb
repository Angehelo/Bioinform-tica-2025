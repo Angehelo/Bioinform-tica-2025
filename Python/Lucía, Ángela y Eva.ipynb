{
 "cells": [
  {
   "cell_type": "markdown",
   "id": "81501e15-f43c-4ba6-8047-a2ee09381989",
   "metadata": {},
   "source": [
    "# PRACTICA 3\n",
    "\n",
    "Lucía García Esquinas, Ángela Hernández López y Eva Olmo Artés\n",
    "\n",
    "## JUEGO DE ADIVINANZAS\n",
    "\n",
    "#### Escribe un programa que coja un número entero del 1 al 100, y los jugadores tienen que tratar de adivinar el número.\n",
    "\n",
    "#### Las reglas son las siguientes:\n",
    "\n",
    "1. Si un jugador escoje un número menor que 1 o mayor que 100, el programa dice \"FUERA DE LÍMITES\"\n",
    "2. En el primer turno del jugador, si está en un rango de 10 del número dice \"¡CALIENTE!\". Si está fuera de ese rango dice \"¡FRIO!\"\n",
    "3. En todas las rondas siguientes, si el jugador se acerca más que la vez anterior, dice \"¡MAS CALIENTE!\". Si está más lejos que la anterior vez dice \"¡MAS FRIO!\"\n",
    "4. Cuando el jugador acierte el número, les dirá que han acertado y cuántos intentos les ha llevado\n",
    "\n",
    "\n",
    "\n"
   ]
  },
  {
   "cell_type": "markdown",
   "id": "1ea418c3",
   "metadata": {},
   "source": [
    "##### PISTAS\n",
    "1. Trata obtener un número aleatorio entre el 1 y el 100\n",
    "2. Haz una introducción de tu juego y explica las reglas\n",
    "3. Crea una lista que almacene los intentos. \n",
    "4. Haz un bucle que evalúe un número. Prueba que funcione primero. While podría ir bien\n",
    "5. Modifica ese bucle para que compare nuestro número con el intento. Si se acierta usa break, si no puedes usar continue y tienes que seguir preguntando al jugador por nuevos intentos"
   ]
  },
  {
   "cell_type": "code",
   "execution_count": 36,
   "id": "9d8095d9",
   "metadata": {},
   "outputs": [],
   "source": [
    "import random"
   ]
  },
  {
   "cell_type": "code",
   "execution_count": 37,
   "id": "b06fb764-f999-4601-ac8e-6d1202547a49",
   "metadata": {},
   "outputs": [],
   "source": [
    "numero_aleatorio = random.randint(1, 100)"
   ]
  },
  {
   "cell_type": "code",
   "execution_count": 38,
   "id": "7741c76c-979a-4418-ab70-9700f47b55a0",
   "metadata": {},
   "outputs": [
    {
     "name": "stdout",
     "output_type": "stream",
     "text": [
      "Bienvenido al Juego\n",
      "El juego trata de adivinar un número entre 1 y 100:\n"
     ]
    }
   ],
   "source": [
    "print(\"Bienvenido al Juego\")\n",
    "print(\"El juego trata de adivinar un número entre 1 y 100:\")"
   ]
  },
  {
   "cell_type": "code",
   "execution_count": 39,
   "id": "a19d0e21-9255-492b-9c2d-88a863315a5e",
   "metadata": {},
   "outputs": [],
   "source": [
    "intentos = []"
   ]
  },
  {
   "cell_type": "code",
   "execution_count": null,
   "id": "d0b32927-75ba-4814-87bc-95b4220f39e3",
   "metadata": {},
   "outputs": [
    {
     "name": "stdin",
     "output_type": "stream",
     "text": [
      "Adivina el número (1-100):  ihn\n"
     ]
    },
    {
     "name": "stdout",
     "output_type": "stream",
     "text": [
      "Por favor, introduce un número válido.\n"
     ]
    },
    {
     "name": "stdin",
     "output_type": "stream",
     "text": [
      "Adivina el número (1-100):  12\n"
     ]
    },
    {
     "name": "stdout",
     "output_type": "stream",
     "text": [
      "¡MÁS FRÍO!\n"
     ]
    },
    {
     "name": "stdin",
     "output_type": "stream",
     "text": [
      "Adivina el número (1-100):  89\n"
     ]
    },
    {
     "name": "stdout",
     "output_type": "stream",
     "text": [
      "¡MÁS FRÍO!\n"
     ]
    },
    {
     "name": "stdin",
     "output_type": "stream",
     "text": [
      "Adivina el número (1-100):  50\n"
     ]
    },
    {
     "name": "stdout",
     "output_type": "stream",
     "text": [
      "¡MÁS CALIENTE!\n"
     ]
    },
    {
     "name": "stdin",
     "output_type": "stream",
     "text": [
      "Adivina el número (1-100):  40\n"
     ]
    },
    {
     "name": "stdout",
     "output_type": "stream",
     "text": [
      "¡MÁS CALIENTE!\n"
     ]
    },
    {
     "name": "stdin",
     "output_type": "stream",
     "text": [
      "Adivina el número (1-100):  30\n"
     ]
    },
    {
     "name": "stdout",
     "output_type": "stream",
     "text": [
      "¡MÁS FRÍO!\n"
     ]
    },
    {
     "name": "stdin",
     "output_type": "stream",
     "text": [
      "Adivina el número (1-100):  35\n"
     ]
    },
    {
     "name": "stdout",
     "output_type": "stream",
     "text": [
      "¡MÁS CALIENTE!\n"
     ]
    },
    {
     "name": "stdin",
     "output_type": "stream",
     "text": [
      "Adivina el número (1-100):  39\n"
     ]
    },
    {
     "name": "stdout",
     "output_type": "stream",
     "text": [
      "¡MÁS CALIENTE!\n"
     ]
    },
    {
     "name": "stdin",
     "output_type": "stream",
     "text": [
      "Adivina el número (1-100):  38\n"
     ]
    },
    {
     "name": "stdout",
     "output_type": "stream",
     "text": [
      "¡MÁS CALIENTE!\n"
     ]
    },
    {
     "name": "stdin",
     "output_type": "stream",
     "text": [
      "Adivina el número (1-100):  37\n"
     ]
    },
    {
     "name": "stdout",
     "output_type": "stream",
     "text": [
      "¡MÁS FRÍO!\n"
     ]
    },
    {
     "name": "stdin",
     "output_type": "stream",
     "text": [
      "Adivina el número (1-100):  36\n"
     ]
    },
    {
     "name": "stdout",
     "output_type": "stream",
     "text": [
      "¡MÁS FRÍO!\n"
     ]
    },
    {
     "name": "stdin",
     "output_type": "stream",
     "text": [
      "Adivina el número (1-100):  40\n"
     ]
    },
    {
     "name": "stdout",
     "output_type": "stream",
     "text": [
      "¡MÁS FRÍO!\n"
     ]
    },
    {
     "name": "stdin",
     "output_type": "stream",
     "text": [
      "Adivina el número (1-100):  34\n"
     ]
    },
    {
     "name": "stdout",
     "output_type": "stream",
     "text": [
      "¡MÁS FRÍO!\n"
     ]
    },
    {
     "name": "stdin",
     "output_type": "stream",
     "text": [
      "Adivina el número (1-100):  35\n"
     ]
    },
    {
     "name": "stdout",
     "output_type": "stream",
     "text": [
      "¡MÁS CALIENTE!\n"
     ]
    },
    {
     "name": "stdin",
     "output_type": "stream",
     "text": [
      "Adivina el número (1-100):  36\n"
     ]
    },
    {
     "name": "stdout",
     "output_type": "stream",
     "text": [
      "¡MÁS CALIENTE!\n"
     ]
    },
    {
     "name": "stdin",
     "output_type": "stream",
     "text": [
      "Adivina el número (1-100):  37\n"
     ]
    },
    {
     "name": "stdout",
     "output_type": "stream",
     "text": [
      "¡MÁS CALIENTE!\n"
     ]
    },
    {
     "name": "stdin",
     "output_type": "stream",
     "text": [
      "Adivina el número (1-100):  38\n"
     ]
    },
    {
     "name": "stdout",
     "output_type": "stream",
     "text": [
      "¡MÁS CALIENTE!\n"
     ]
    },
    {
     "name": "stdin",
     "output_type": "stream",
     "text": [
      "Adivina el número (1-100):  39\n"
     ]
    },
    {
     "name": "stdout",
     "output_type": "stream",
     "text": [
      "¡MÁS FRÍO!\n"
     ]
    }
   ],
   "source": [
    "while True:\n",
    "    try:\n",
    "        intento = int(input(\"Adivina el número (1-100): \"))\n",
    "    except ValueError:\n",
    "        print(\"Por favor, introduce un número válido.\")\n",
    "        continue\n",
    "\n",
    "    if intento < 1 or intento > 100:\n",
    "        print(\"FUERA DE LÍMITES\")\n",
    "        continue\n",
    "\n",
    "    intentos.append(intento)\n",
    "\n",
    "    if intento == numero_aleatorio:\n",
    "        print(f\"¡Correcto! El número era {numero_secreto}.\")\n",
    "        print(f\"Lo lograste en {len(intentos)} intentos.\")\n",
    "        break\n",
    "\n",
    "    if len(intentos) == 1:\n",
    "        if abs(numero_secreto - intento) <= 10:\n",
    "            print(\"¡CALIENTE!\")\n",
    "        else:\n",
    "            print(\"¡FRÍO!\")\n",
    "    else:\n",
    "        if abs(numero_secreto - intento) < abs(numero_secreto - intentos[-2]):\n",
    "            print(\"¡MÁS CALIENTE!\")\n",
    "        else:\n",
    "            print(\"¡MÁS FRÍO!\")\n"
   ]
  },
  {
   "cell_type": "code",
   "execution_count": null,
   "id": "dacc8a86-7651-4b80-a89d-3a079cdfd411",
   "metadata": {},
   "outputs": [],
   "source": []
  }
 ],
 "metadata": {
  "kernelspec": {
   "display_name": "Python [conda env:base] *",
   "language": "python",
   "name": "conda-base-py"
  },
  "language_info": {
   "codemirror_mode": {
    "name": "ipython",
    "version": 3
   },
   "file_extension": ".py",
   "mimetype": "text/x-python",
   "name": "python",
   "nbconvert_exporter": "python",
   "pygments_lexer": "ipython3",
   "version": "3.13.5"
  }
 },
 "nbformat": 4,
 "nbformat_minor": 5
}
