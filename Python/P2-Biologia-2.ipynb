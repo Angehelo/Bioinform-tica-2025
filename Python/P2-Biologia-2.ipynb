{
 "cells": [
  {
   "cell_type": "markdown",
   "id": "985e6f9b",
   "metadata": {},
   "source": [
    "# PRACTICA 2\n",
    "#### Lucía García Esquinas, Ángela Hernández López, Eva Olmo Artés\n",
    "\n",
    "### ¡Con todo lo aprendido con Python, vamos a resolver unos ejercicios de Bioinformática!\n",
    "\n",
    "#### 1.- Concatena las cadenas ATGCC y TCCG"
   ]
  },
  {
   "cell_type": "code",
   "execution_count": 1,
   "id": "c06c7b6f",
   "metadata": {},
   "outputs": [
    {
     "name": "stdout",
     "output_type": "stream",
     "text": [
      "ATGCCTCCG\n"
     ]
    }
   ],
   "source": [
    "cadena1 = \"ATGCC\"\n",
    "cadena2 = \"TCCG\"\n",
    "cadena3= cadena1+cadena2\n",
    "print(cadena3)"
   ]
  },
  {
   "cell_type": "markdown",
   "id": "1f4b7708",
   "metadata": {},
   "source": [
    "#### 2.- ¿Cuál es la longitud de ATGCGAGT?"
   ]
  },
  {
   "cell_type": "code",
   "execution_count": 2,
   "id": "8f78cad8",
   "metadata": {},
   "outputs": [],
   "source": [
    "dna=\"ATGCGAGT\""
   ]
  },
  {
   "cell_type": "code",
   "execution_count": 3,
   "id": "ecce1da6",
   "metadata": {},
   "outputs": [
    {
     "name": "stdout",
     "output_type": "stream",
     "text": [
      "8\n"
     ]
    }
   ],
   "source": [
    "longitud=len(dna)\n",
    "print(longitud)"
   ]
  },
  {
   "cell_type": "markdown",
   "id": "6361c287",
   "metadata": {},
   "source": [
    "#### 3.- Con la cadena mgXDyTw, ponla en mayúsculas, luego en minúsculas. Extrae su longitud y divide la cadena por la letra \"g\""
   ]
  },
  {
   "cell_type": "code",
   "execution_count": 8,
   "id": "b69beca1",
   "metadata": {},
   "outputs": [],
   "source": [
    "cadena=\"mgXDyTw\""
   ]
  },
  {
   "cell_type": "code",
   "execution_count": 10,
   "id": "51591dca",
   "metadata": {},
   "outputs": [
    {
     "name": "stdout",
     "output_type": "stream",
     "text": [
      "MGXDYTW\n"
     ]
    }
   ],
   "source": [
    "cadena_mayusculas=cadena.upper()\n",
    "print(cadena_mayusculas)"
   ]
  },
  {
   "cell_type": "code",
   "execution_count": 11,
   "id": "b0fc5182-4a53-4569-be66-e25dca998745",
   "metadata": {},
   "outputs": [
    {
     "name": "stdout",
     "output_type": "stream",
     "text": [
      "mgxdytw\n"
     ]
    }
   ],
   "source": [
    "cadena_minusculas=cadena.lower()\n",
    "print(cadena_minusculas)"
   ]
  },
  {
   "cell_type": "code",
   "execution_count": 12,
   "id": "76eaddb0-bf74-45ad-b49e-a2b32a5693cf",
   "metadata": {},
   "outputs": [
    {
     "name": "stdout",
     "output_type": "stream",
     "text": [
      "7\n"
     ]
    }
   ],
   "source": [
    "longitud=len(cadena)\n",
    "print(longitud)"
   ]
  },
  {
   "cell_type": "code",
   "execution_count": 13,
   "id": "11d57a6e-6982-4b0a-a12d-089f9cee6eb3",
   "metadata": {},
   "outputs": [
    {
     "name": "stdout",
     "output_type": "stream",
     "text": [
      "['m', 'XDyTw']\n"
     ]
    }
   ],
   "source": [
    "por_partes=cadena.split(\"g\")\n",
    "print(por_partes)"
   ]
  },
  {
   "cell_type": "markdown",
   "id": "91c2ca9d",
   "metadata": {},
   "source": [
    "#### 4.- Con la secuencia de aminoácidos vlspadktnv, reemplaza la valina con la tirosina. Pista: usa replace()"
   ]
  },
  {
   "cell_type": "code",
   "execution_count": 18,
   "id": "a049ecdd",
   "metadata": {},
   "outputs": [],
   "source": [
    "aa = \"vlspadktnv\""
   ]
  },
  {
   "cell_type": "code",
   "execution_count": 19,
   "id": "0c464cc2",
   "metadata": {},
   "outputs": [],
   "source": [
    "nueva_secuencia= aa.replace(\"v\", \"t\")"
   ]
  },
  {
   "cell_type": "code",
   "execution_count": 20,
   "id": "5f24fcc7-6fdf-4951-88c6-711a18980135",
   "metadata": {},
   "outputs": [
    {
     "data": {
      "text/plain": [
       "'tlspadktnt'"
      ]
     },
     "execution_count": 20,
     "metadata": {},
     "output_type": "execute_result"
    }
   ],
   "source": [
    "nueva_secuencia"
   ]
  },
  {
   "cell_type": "markdown",
   "id": "97f9ecd6",
   "metadata": {},
   "source": [
    "#### 5.- Cuenta las valinas de la secuencia original anterior."
   ]
  },
  {
   "cell_type": "code",
   "execution_count": 21,
   "id": "b4b5600f",
   "metadata": {},
   "outputs": [
    {
     "data": {
      "text/plain": [
       "2"
      ]
     },
     "execution_count": 21,
     "metadata": {},
     "output_type": "execute_result"
    }
   ],
   "source": [
    "print\n",
    "aa.count(\"v\")"
   ]
  },
  {
   "cell_type": "markdown",
   "id": "6aac8e24",
   "metadata": {},
   "source": [
    "#### 6.- Con el diccionario siguiente imprime el valor de BisI y saca el valor de EcoRI con pop(). ¿Qué pasa con el diccionario?"
   ]
  },
  {
   "cell_type": "code",
   "execution_count": 14,
   "id": "c0c811d7",
   "metadata": {},
   "outputs": [],
   "source": [
    "enzR = {\n",
    "    'EcoRI':r'GAATTC',\n",
    "    'AvaII':r'GG(A|T)CC',\n",
    "    'BisI':r'GC[ATGC]GC'\n",
    "}"
   ]
  },
  {
   "cell_type": "code",
   "execution_count": 15,
   "id": "5dacb009",
   "metadata": {},
   "outputs": [
    {
     "name": "stdout",
     "output_type": "stream",
     "text": [
      "GC[ATGC]GC\n"
     ]
    }
   ],
   "source": [
    "print(enzR[\"BisI\"])"
   ]
  },
  {
   "cell_type": "code",
   "execution_count": 16,
   "id": "60c226a8-e4b9-44ea-8e64-af382f266fc5",
   "metadata": {},
   "outputs": [
    {
     "data": {
      "text/plain": [
       "'GAATTC'"
      ]
     },
     "execution_count": 16,
     "metadata": {},
     "output_type": "execute_result"
    }
   ],
   "source": [
    "enzR.pop(\"EcoRI\")"
   ]
  },
  {
   "cell_type": "markdown",
   "id": "4646bddd",
   "metadata": {},
   "source": [
    "#### 7.- Con la secuencia y la lista siguiente, escribe un algoritmo que cuente el número de veces que aparece un elemento de la lista en la secuencia. Pista: hacer un diccionario para almacenar los resultados puede ser buena idea"
   ]
  },
  {
   "cell_type": "code",
   "execution_count": 22,
   "id": "0a701a5e",
   "metadata": {},
   "outputs": [],
   "source": [
    "dna = \"AATGATGAACGAC\" \n",
    "dinucleotides = ['AA','AT','AG','AC', \n",
    "                 'TA','TT','TG','TC', \n",
    "                 'GA','GT','GG','GC', \n",
    "                 'CA','CT','CG','CT'] "
   ]
  },
  {
   "cell_type": "code",
   "execution_count": 23,
   "id": "e028dbc8",
   "metadata": {},
   "outputs": [],
   "source": [
    "dinucleotidos= list(set(dinucleotides))"
   ]
  },
  {
   "cell_type": "code",
   "execution_count": 40,
   "id": "e8973df9-3462-4d50-a1aa-2747fbedb978",
   "metadata": {},
   "outputs": [],
   "source": [
    "counts= {}"
   ]
  },
  {
   "cell_type": "code",
   "execution_count": 41,
   "id": "7e0b9683-487f-4849-97b0-f8860602218a",
   "metadata": {},
   "outputs": [],
   "source": [
    "for di in dinucleotides:\n",
    "    counts [di]=dna.count(di)"
   ]
  },
  {
   "cell_type": "code",
   "execution_count": 42,
   "id": "662cb68c-6f77-4b56-9147-9d0ba09cf3d9",
   "metadata": {},
   "outputs": [
    {
     "name": "stdout",
     "output_type": "stream",
     "text": [
      "AA: 2\n",
      "AT: 2\n",
      "AG: 0\n",
      "AC: 2\n",
      "TA: 0\n",
      "TT: 0\n",
      "TG: 2\n",
      "TC: 0\n",
      "GA: 3\n",
      "GT: 0\n",
      "GG: 0\n",
      "GC: 0\n",
      "CA: 0\n",
      "CT: 0\n",
      "CG: 1\n"
     ]
    }
   ],
   "source": [
    "for di, count in counts.items():\n",
    "    print(f\"{di}: {count}\")"
   ]
  },
  {
   "cell_type": "markdown",
   "id": "a44b5e4c",
   "metadata": {},
   "source": [
    "##### ¿Cuántos counts tiene TC?"
   ]
  },
  {
   "cell_type": "code",
   "execution_count": 31,
   "id": "3003eef4",
   "metadata": {},
   "outputs": [],
   "source": [
    "dna= \"AATGATGAACGAC\"\n",
    "dinucleotides= ['AA','AT','AG','AC', \n",
    "                 'TA','TT','TG','TC', \n",
    "                 'GA','GT','GG','GC', \n",
    "                 'CA','CT','CG','CT']"
   ]
  },
  {
   "cell_type": "code",
   "execution_count": 36,
   "id": "4628e82d-012b-4fbd-9429-75b42aeb5a0e",
   "metadata": {},
   "outputs": [],
   "source": [
    "counts_TC= dna.count(\"TC\")"
   ]
  },
  {
   "cell_type": "code",
   "execution_count": 37,
   "id": "a55e0941-3f51-4379-8e61-95d3e6264c5c",
   "metadata": {},
   "outputs": [
    {
     "name": "stdout",
     "output_type": "stream",
     "text": [
      "{0}\n"
     ]
    }
   ],
   "source": [
    "print ({counts_TC})"
   ]
  },
  {
   "cell_type": "markdown",
   "id": "70245f18",
   "metadata": {},
   "source": [
    "##### ¿Puedes imprimir los dinuleótidos que tengan counts igual a 2?"
   ]
  },
  {
   "cell_type": "code",
   "execution_count": null,
   "id": "b83480e8",
   "metadata": {},
   "outputs": [],
   "source": [
    "dna= \"AATGATGAACGAC\"\n",
    "dinucleotides= ['AA','AT','AG','AC', \n",
    "                 'TA','TT','TG','TC', \n",
    "                 'GA','GT','GG','GC', \n",
    "                 'CA','CT','CG','CT']"
   ]
  },
  {
   "cell_type": "code",
   "execution_count": 38,
   "id": "4edef334-f5a3-421b-b658-8fb44642091f",
   "metadata": {},
   "outputs": [],
   "source": [
    "counts={}\n",
    "for di in set(dinucleotides): \n",
    "    counts[di]=dna.count(di)"
   ]
  },
  {
   "cell_type": "code",
   "execution_count": 39,
   "id": "e982acaa-eccd-4db8-889e-8b67cbd15189",
   "metadata": {},
   "outputs": [
    {
     "name": "stdout",
     "output_type": "stream",
     "text": [
      "dinucleótidos con count=2:\n",
      "AA: 2\n",
      "AC: 2\n",
      "TG: 2\n",
      "AT: 2\n"
     ]
    }
   ],
   "source": [
    "print(\"dinucleótidos con count=2:\")\n",
    "for di, count in counts.items():\n",
    "    if count==2:\n",
    "        print(f\"{di}: {count}\")"
   ]
  }
 ],
 "metadata": {
  "kernelspec": {
   "display_name": "Python [conda env:base] *",
   "language": "python",
   "name": "conda-base-py"
  },
  "language_info": {
   "codemirror_mode": {
    "name": "ipython",
    "version": 3
   },
   "file_extension": ".py",
   "mimetype": "text/x-python",
   "name": "python",
   "nbconvert_exporter": "python",
   "pygments_lexer": "ipython3",
   "version": "3.13.5"
  }
 },
 "nbformat": 4,
 "nbformat_minor": 5
}
