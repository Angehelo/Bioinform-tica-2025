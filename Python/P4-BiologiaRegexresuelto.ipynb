{
 "cells": [
  {
   "cell_type": "markdown",
   "id": "985e6f9b",
   "metadata": {},
   "source": [
    "# PRACTICA 4\n",
    "\n",
    "### Resuelve los siguientes ejercicios"
   ]
  },
  {
   "cell_type": "markdown",
   "id": "28748e51",
   "metadata": {},
   "source": [
    "##### 1.- Abre el fichero dna.txt, guarda una lista del contenido del archivo. Devuelve su longitud y su primer caracter"
   ]
  },
  {
   "cell_type": "code",
   "execution_count": 69,
   "id": "88679bbc",
   "metadata": {},
   "outputs": [
    {
     "name": "stdout",
     "output_type": "stream",
     "text": [
      "123\n",
      "A\n"
     ]
    }
   ],
   "source": [
    "mi_archivo=open(\"dna.txt\")\n",
    "contenido=mi_archivo.read().strip()\n",
    "lista_dna = list(contenido)\n",
    "print(len(lista_dna))\n",
    "print(lista_dna[0])"
   ]
  },
  {
   "cell_type": "markdown",
   "id": "9b87396a",
   "metadata": {},
   "source": [
    "##### 2.- Crea dos archivos. Uno almacena los accession que empiezen por 'a' y el otro el resto"
   ]
  },
  {
   "cell_type": "code",
   "execution_count": 24,
   "id": "73957856",
   "metadata": {},
   "outputs": [],
   "source": [
    "accs = ['ab56', 'bh84', 'hv76', 'ay93', 'ap97', 'bd72']"
   ]
  },
  {
   "cell_type": "code",
   "execution_count": 25,
   "id": "8f62bc8f",
   "metadata": {},
   "outputs": [],
   "source": [
    "archivo_1= [acc for acc in accs if acc.lower().startswith(\"a\")]\n",
    "archivo_2= [acc for acc in accs if not acc.lower().startswith(\"a\")]"
   ]
  },
  {
   "cell_type": "code",
   "execution_count": 29,
   "id": "176933ac-60e4-44de-a68d-f18cc1295ec1",
   "metadata": {},
   "outputs": [],
   "source": [
    "with open(\"accesiones_a.txt\", \"w\", encoding=\"utf-8\") as f_1:\n",
    "    f_1.writelines(acc + \"\\n\" for acc in archivo_1)"
   ]
  },
  {
   "cell_type": "code",
   "execution_count": 30,
   "id": "e15b7554-3b75-4e53-b769-49538afaea36",
   "metadata": {},
   "outputs": [
    {
     "name": "stdout",
     "output_type": "stream",
     "text": [
      "['ab56', 'ay93', 'ap97']\n"
     ]
    }
   ],
   "source": [
    "print(archivo_1)"
   ]
  },
  {
   "cell_type": "code",
   "execution_count": 31,
   "id": "7f9cb73e-bff4-4dee-8ba0-20a496a03a0c",
   "metadata": {},
   "outputs": [],
   "source": [
    "with open(\"accesiones_otros.txt\", \"w\", encoding=\"utf-8\") as f_2:\n",
    "    f_2.writelines(acc + \"\\n\" for acc in archivo_2)"
   ]
  },
  {
   "cell_type": "code",
   "execution_count": 32,
   "id": "b699d714-a785-409d-ab01-9e30fecb2707",
   "metadata": {},
   "outputs": [
    {
     "name": "stdout",
     "output_type": "stream",
     "text": [
      "['bh84', 'hv76', 'bd72']\n"
     ]
    }
   ],
   "source": [
    "print(archivo_2)"
   ]
  },
  {
   "cell_type": "markdown",
   "id": "9cbb4adf",
   "metadata": {},
   "source": [
    "##### 3.- Imprime solamente los accessions de la lista anterior que empiecen por 'a' y no acaben con '6'. Pista: usa endswith() y startswidth()"
   ]
  },
  {
   "cell_type": "code",
   "execution_count": 33,
   "id": "b32ca419",
   "metadata": {},
   "outputs": [
    {
     "name": "stdout",
     "output_type": "stream",
     "text": [
      "ay93\n",
      "ap97\n"
     ]
    }
   ],
   "source": [
    "for acc in accs:\n",
    "    if acc.startswith('a') and not acc.endswith('6'):\n",
    "        print(acc)"
   ]
  },
  {
   "cell_type": "markdown",
   "id": "42c397b0",
   "metadata": {},
   "source": [
    "##### 4.- Escribe una función que cuente el porcentaje de A de una secuencia"
   ]
  },
  {
   "cell_type": "code",
   "execution_count": 36,
   "id": "da633510",
   "metadata": {},
   "outputs": [],
   "source": [
    "def porcentaje_A(secuencia):\n",
    "    secuencia = secuencia.upper()  \n",
    "    total = len(secuencia)\n",
    "    if total == 0:\n",
    "        return 0  \n",
    "    count_A = secuencia.count('A')\n",
    "    return (count_A / total) * 100"
   ]
  },
  {
   "cell_type": "code",
   "execution_count": 72,
   "id": "c94a5718-9787-4f7c-92f8-12e1e5a6ccbf",
   "metadata": {},
   "outputs": [
    {
     "name": "stdout",
     "output_type": "stream",
     "text": [
      "35.71%\n"
     ]
    }
   ],
   "source": [
    "dna = \"ATCGATCGAAATTT\"\n",
    "print(f\"{porcentaje_A(dna):.2f}%\")"
   ]
  },
  {
   "cell_type": "markdown",
   "id": "054b8f51",
   "metadata": {},
   "source": [
    "##### ¿Puedes hacer que devuelva dos decimales? ¿Y que lidie con mayúsculas y minúsculas?"
   ]
  },
  {
   "cell_type": "code",
   "execution_count": 39,
   "id": "dc1d5907",
   "metadata": {},
   "outputs": [],
   "source": [
    "def porcentaje_A(secuencia):\n",
    "    secuencia = secuencia.upper()\n",
    "    num_A = secuencia.count('A')\n",
    "    if len(secuencia) == 0:\n",
    "        return 0.0\n",
    "    porcentaje = (num_A / len(secuencia)) * 100\n",
    "    return round(porcentaje, 2)"
   ]
  },
  {
   "cell_type": "code",
   "execution_count": 40,
   "id": "46c21fc9-f463-402b-bc9f-84d1223f1fdc",
   "metadata": {},
   "outputs": [
    {
     "name": "stdout",
     "output_type": "stream",
     "text": [
      "50.0\n"
     ]
    }
   ],
   "source": [
    "print(porcentaje_A(\"acggaAAagtTa\"))"
   ]
  },
  {
   "cell_type": "markdown",
   "id": "36a03b5f",
   "metadata": {},
   "source": [
    "##### ¿Y que devuelva el número de decimales que yo quiero?"
   ]
  },
  {
   "cell_type": "code",
   "execution_count": 41,
   "id": "1ac51951",
   "metadata": {},
   "outputs": [],
   "source": [
    "def porcentaje_A(secuencia, decimales=2):\n",
    "    secuencia = secuencia.upper()           \n",
    "    num_A = secuencia.count('A')            \n",
    "    if len(secuencia) == 0:\n",
    "        return 0.0                      \n",
    "    porcentaje = (num_A / len(secuencia)) * 100\n",
    "    return round(porcentaje, decimales)"
   ]
  },
  {
   "cell_type": "code",
   "execution_count": 44,
   "id": "e763dbe6-322d-401f-9858-dfc77aefdd51",
   "metadata": {},
   "outputs": [
    {
     "name": "stdout",
     "output_type": "stream",
     "text": [
      "58.333\n"
     ]
    }
   ],
   "source": [
    "print(porcentaje_A(\"acggaAAaatTa\",3)) "
   ]
  },
  {
   "cell_type": "markdown",
   "id": "2c811d84",
   "metadata": {},
   "source": [
    "##### ¿Sabes poner un valor por defecto en un argumento?"
   ]
  },
  {
   "cell_type": "code",
   "execution_count": null,
   "id": "60981086",
   "metadata": {},
   "outputs": [],
   "source": [
    "def porcentaje_A(secuencia, decimales=2) #El valor por defecto, si no indicamos otra cosa es 2"
   ]
  },
  {
   "cell_type": "markdown",
   "id": "ab2c106c",
   "metadata": {},
   "source": [
    "##### ¿Qué pasa si no ponemos un argumento? ¿Sabrías hacer una función encapsulada?"
   ]
  },
  {
   "cell_type": "code",
   "execution_count": 45,
   "id": "b155dc1e",
   "metadata": {},
   "outputs": [],
   "source": [
    "def porcentaje_A(secuencia, decimales=2):\n",
    "    #Función interna: solo se usa dentro de porcentaje_A\n",
    "    def contar_base(base):\n",
    "        return secuencia.upper().count(base.upper()) \n",
    "    # Evitar división por cero\n",
    "    if len(secuencia) == 0:\n",
    "        return 0.0\n",
    "    # Calcular el porcentaje usando la función interna\n",
    "    porcentaje = (contar_base('A') / len(secuencia)) * 100\n",
    "    # Redondear al número de decimales indicado\n",
    "    return round(porcentaje, decimales)"
   ]
  },
  {
   "cell_type": "code",
   "execution_count": 46,
   "id": "e1297ca5-ad8e-4e83-8e47-1d28240f220a",
   "metadata": {},
   "outputs": [
    {
     "name": "stdout",
     "output_type": "stream",
     "text": [
      "57.143\n"
     ]
    }
   ],
   "source": [
    "print(porcentaje_A(\"ATGCAAA\", 3)) "
   ]
  },
  {
   "cell_type": "markdown",
   "id": "83af4b0f",
   "metadata": {},
   "source": [
    "##### Testea tu función original con assert"
   ]
  },
  {
   "cell_type": "code",
   "execution_count": 53,
   "id": "2bf31b44",
   "metadata": {},
   "outputs": [],
   "source": [
    "def porcentaje_A(secuencia=\"ATCGATCGATCGAAATTT\"):\n",
    "    secuencia = secuencia.upper()\n",
    "    total = len(secuencia)\n",
    "    if total == 0:\n",
    "        return 0\n",
    "    num_A = secuencia.count('A')\n",
    "    porcentaje = (num_A / total) * 100\n",
    "    return round(porcentaje, 2)"
   ]
  },
  {
   "cell_type": "code",
   "execution_count": 55,
   "id": "a4de4dc3-0ad1-4ed6-ba06-822954267751",
   "metadata": {},
   "outputs": [
    {
     "name": "stdout",
     "output_type": "stream",
     "text": [
      "Test correctos\n"
     ]
    }
   ],
   "source": [
    "assert porcentaje_A(\"AATTCCGG\") == 25.0\n",
    "assert porcentaje_A(\"\") == 0\n",
    "assert porcentaje_A(\"TTCCGG\") == 0 \n",
    "print(\"Test correctos\")"
   ]
  },
  {
   "cell_type": "markdown",
   "id": "991abaa2",
   "metadata": {},
   "source": [
    "#### 5.- De la lista de accessions que se proporciona obtén lo siguiente:\n",
    "1. Los que tengan el número 5\n",
    "2. Los que tengan la letra 'd' o la 'e'\n",
    "3. Los que tengan las letras 'd' y 'e' en ese orden\n",
    "4. Los que tengan las letras 'd' y 'e' en ese orden con una letra cualquiera en medio\n",
    "5. Los que tengan ambas letras 'd' y 'e' en cualquier orden\n",
    "6. Los que empiezan por 'x' o por 'y'\n",
    "7. Los que empiezan por 'x' o 'y' y terminan por 'e'\n",
    "8. Los que tienen tres o más dígitos seguidos\n",
    "9. Los que terminan con 'd' seguidos de 'a' o 'r' o 'p'"
   ]
  },
  {
   "cell_type": "code",
   "execution_count": 56,
   "id": "6388ac75",
   "metadata": {},
   "outputs": [],
   "source": [
    "import re"
   ]
  },
  {
   "cell_type": "code",
   "execution_count": 57,
   "id": "d00d3ce7",
   "metadata": {},
   "outputs": [],
   "source": [
    "accs = ['xkn59438', 'yhdck2', 'eihd39d9', 'chdsye847', 'hedle3455', 'xjhd53e', '45da', 'de37dp']"
   ]
  },
  {
   "cell_type": "code",
   "execution_count": 59,
   "id": "2fe61ee8-3fa9-4cf4-80a3-7e276b9b396c",
   "metadata": {},
   "outputs": [
    {
     "name": "stdout",
     "output_type": "stream",
     "text": [
      "['xkn59438', 'hedle3455', 'xjhd53e', '45da']\n"
     ]
    }
   ],
   "source": [
    "numero_5 = [a for a in accs if '5' in a]\n",
    "print(numero_5)"
   ]
  },
  {
   "cell_type": "code",
   "execution_count": 60,
   "id": "2f89c09b-d4c2-4859-a92f-b52f78511305",
   "metadata": {},
   "outputs": [
    {
     "name": "stdout",
     "output_type": "stream",
     "text": [
      "['yhdck2', 'eihd39d9', 'chdsye847', 'hedle3455', 'xjhd53e', '45da', 'de37dp']\n"
     ]
    }
   ],
   "source": [
    "d_o_e = [a for a in accs if re.search(r'[de]', a)]\n",
    "print(d_o_e)"
   ]
  },
  {
   "cell_type": "code",
   "execution_count": 61,
   "id": "30fd95a3-0dda-4550-a641-c2f9d0d6d2b9",
   "metadata": {},
   "outputs": [
    {
     "name": "stdout",
     "output_type": "stream",
     "text": [
      "['chdsye847', 'hedle3455', 'xjhd53e', 'de37dp']\n"
     ]
    }
   ],
   "source": [
    "d_y_e_en_orden = [a for a in accs if re.search(r'd.*e', a)]\n",
    "print(d_y_e_en_orden)"
   ]
  },
  {
   "cell_type": "code",
   "execution_count": 62,
   "id": "73aea119-7e50-4ede-94ec-db6f71409654",
   "metadata": {},
   "outputs": [
    {
     "name": "stdout",
     "output_type": "stream",
     "text": [
      "['hedle3455']\n"
     ]
    }
   ],
   "source": [
    "d_y_e_con_una = [a for a in accs if re.search(r'd.e', a)]\n",
    "print(d_y_e_con_una)"
   ]
  },
  {
   "cell_type": "code",
   "execution_count": 63,
   "id": "fff16591-62df-4e49-8766-621ca3377c5c",
   "metadata": {},
   "outputs": [
    {
     "name": "stdout",
     "output_type": "stream",
     "text": [
      "['eihd39d9', 'chdsye847', 'hedle3455', 'xjhd53e', 'de37dp']\n"
     ]
    }
   ],
   "source": [
    "d_y_e_cualquier_orden = [a for a in accs if 'd' in a and 'e' in a]\n",
    "print(d_y_e_cualquier_orden)"
   ]
  },
  {
   "cell_type": "code",
   "execution_count": 64,
   "id": "81d15e8d-af8f-4f63-a9d8-f9afab4ca8c3",
   "metadata": {},
   "outputs": [
    {
     "name": "stdout",
     "output_type": "stream",
     "text": [
      "['xkn59438', 'yhdck2', 'xjhd53e']\n"
     ]
    }
   ],
   "source": [
    "empiezan_xy = [a for a in accs if re.match(r'^[xy]', a)]\n",
    "print(empiezan_xy)"
   ]
  },
  {
   "cell_type": "code",
   "execution_count": 65,
   "id": "49d18d53-4b54-4813-80c0-e8970d24f7e2",
   "metadata": {},
   "outputs": [
    {
     "name": "stdout",
     "output_type": "stream",
     "text": [
      "['xjhd53e']\n"
     ]
    }
   ],
   "source": [
    "empiezan_xy_terminan_e = [a for a in accs if re.match(r'^[xy].*e$', a)]\n",
    "print(empiezan_xy_terminan_e)"
   ]
  },
  {
   "cell_type": "code",
   "execution_count": 66,
   "id": "d0b9ca20-e67b-4e71-a0c3-fdc89d196fb3",
   "metadata": {},
   "outputs": [
    {
     "name": "stdout",
     "output_type": "stream",
     "text": [
      "['xkn59438', 'chdsye847', 'hedle3455']\n"
     ]
    }
   ],
   "source": [
    "tres_o_mas_digitos = [a for a in accs if re.search(r'\\d{3,}', a)]\n",
    "print(tres_o_mas_digitos)"
   ]
  },
  {
   "cell_type": "code",
   "execution_count": 67,
   "id": "31821303-17ff-44fd-8528-b2ab47e90b38",
   "metadata": {},
   "outputs": [
    {
     "name": "stdout",
     "output_type": "stream",
     "text": [
      "['45da', 'de37dp']\n"
     ]
    }
   ],
   "source": [
    "terminan_dar = [a for a in accs if re.search(r'd[arp]$', a)]\n",
    "print(terminan_dar)"
   ]
  }
 ],
 "metadata": {
  "kernelspec": {
   "display_name": "Python [conda env:base] *",
   "language": "python",
   "name": "conda-base-py"
  },
  "language_info": {
   "codemirror_mode": {
    "name": "ipython",
    "version": 3
   },
   "file_extension": ".py",
   "mimetype": "text/x-python",
   "name": "python",
   "nbconvert_exporter": "python",
   "pygments_lexer": "ipython3",
   "version": "3.13.5"
  }
 },
 "nbformat": 4,
 "nbformat_minor": 5
}
