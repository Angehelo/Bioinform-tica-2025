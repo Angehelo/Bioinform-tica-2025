{
 "cells": [
  {
   "cell_type": "markdown",
   "id": "5f1f2528",
   "metadata": {},
   "source": [
    "### METODOS. Algunos ejemplos"
   ]
  },
  {
   "cell_type": "markdown",
   "id": "3fdf12c7",
   "metadata": {},
   "source": [
    "Los métodos son funciones construidas en Python. ¡Ya hemos visto algunos en clase!\n",
    "\n",
    "Los métodos realizan acciones sobre un objeto y pueden tomar argumentos, como una función.\n",
    "\n",
    "Algunos ejemplos de métodos para las listas serían: **append()**, **count()**, **extend()**, **insert()**, **pop()**, **remove()**, **reverse()** o **sort()**."
   ]
  },
  {
   "cell_type": "code",
   "execution_count": 1,
   "id": "19e9e8d2",
   "metadata": {},
   "outputs": [],
   "source": [
    "lista = [1,2,3,4,5]"
   ]
  },
  {
   "cell_type": "code",
   "execution_count": 2,
   "id": "ab96c675",
   "metadata": {},
   "outputs": [
    {
     "data": {
      "text/plain": [
       "[1, 2, 3, 4, 5, 6]"
      ]
     },
     "execution_count": 2,
     "metadata": {},
     "output_type": "execute_result"
    }
   ],
   "source": [
    "lista.append(6)\n",
    "lista"
   ]
  },
  {
   "cell_type": "code",
   "execution_count": 3,
   "id": "54f0488c",
   "metadata": {},
   "outputs": [
    {
     "data": {
      "text/plain": [
       "1"
      ]
     },
     "execution_count": 3,
     "metadata": {},
     "output_type": "execute_result"
    }
   ],
   "source": [
    "lista.count(2)"
   ]
  },
  {
   "cell_type": "code",
   "execution_count": 4,
   "id": "ef6ec0a3",
   "metadata": {},
   "outputs": [
    {
     "name": "stdout",
     "output_type": "stream",
     "text": [
      "Help on built-in function count:\n",
      "\n",
      "count(value, /) method of builtins.list instance\n",
      "    Return number of occurrences of value.\n",
      "\n"
     ]
    }
   ],
   "source": [
    "help(lista.count)"
   ]
  },
  {
   "cell_type": "markdown",
   "id": "9af39265",
   "metadata": {},
   "source": [
    "### FUNCIONES"
   ]
  },
  {
   "cell_type": "markdown",
   "id": "347a1b63",
   "metadata": {},
   "source": [
    "Una función nos permite guardar bloques de código y ejecutarlos numerosas veces llamándolos por su nombre. De esta forma, no necesitamos escribir todo el código cada vez que queramos ejecutarlo.\n",
    "\n",
    "Podemos especificar unos parámetros que nos sirvan como input para las funciones. También podemos especificar los valores de salida que queramos.\n",
    "\n",
    "Las funciones se denominan con **def nombre_función(arg1,arg2):**\n"
   ]
  },
  {
   "cell_type": "code",
   "execution_count": 5,
   "id": "0ea4ff95",
   "metadata": {},
   "outputs": [],
   "source": [
    "# Hacemos nuestra primera función\n",
    "def di_hola():\n",
    "    print('hola')"
   ]
  },
  {
   "cell_type": "code",
   "execution_count": 6,
   "id": "f8e3acff",
   "metadata": {},
   "outputs": [
    {
     "name": "stdout",
     "output_type": "stream",
     "text": [
      "hola\n"
     ]
    }
   ],
   "source": [
    "# Ahora llamamos a nuestra función\n",
    "di_hola()"
   ]
  },
  {
   "cell_type": "code",
   "execution_count": 7,
   "id": "b5276f17",
   "metadata": {},
   "outputs": [
    {
     "data": {
      "text/plain": [
       "<function __main__.di_hola()>"
      ]
     },
     "execution_count": 7,
     "metadata": {},
     "output_type": "execute_result"
    }
   ],
   "source": [
    "# Si no ponemos los paréntesis, vemos que nos dice que es una función\n",
    "di_hola"
   ]
  },
  {
   "cell_type": "code",
   "execution_count": 8,
   "id": "d4366bc9",
   "metadata": {
    "scrolled": true
   },
   "outputs": [
    {
     "name": "stdout",
     "output_type": "stream",
     "text": [
      "Hola Jose\n"
     ]
    }
   ],
   "source": [
    "# Podemos usar los argumentos\n",
    "def saludos(nombre):\n",
    "        print(f'Hola {nombre}')\n",
    "saludos('Jose')"
   ]
  },
  {
   "cell_type": "code",
   "execution_count": 9,
   "id": "4e0bd891",
   "metadata": {},
   "outputs": [],
   "source": [
    "nombre='Lucía'"
   ]
  },
  {
   "cell_type": "code",
   "execution_count": 10,
   "id": "65d943e3",
   "metadata": {},
   "outputs": [
    {
     "name": "stdout",
     "output_type": "stream",
     "text": [
      "Hola Lucía\n"
     ]
    }
   ],
   "source": [
    "saludos(nombre)"
   ]
  },
  {
   "cell_type": "code",
   "execution_count": 11,
   "id": "e90d4e5f",
   "metadata": {},
   "outputs": [],
   "source": [
    "# Podemos mostrar el output de una función con print() o con return. Return nos permite guardar el resultado en una variable\n",
    "# Así ese resultado lo podemos usar para lo que queramos. \n",
    "# Con print no guardamos el resultado en una variable, solo lo mostramos.\n",
    "def suma_numeros(n1,n2):\n",
    "    if type(n1) == int and type(n2)== int:\n",
    "        suma=n1+n2\n",
    "        return suma"
   ]
  },
  {
   "cell_type": "code",
   "execution_count": 12,
   "id": "e146826d",
   "metadata": {},
   "outputs": [
    {
     "data": {
      "text/plain": [
       "9"
      ]
     },
     "execution_count": 12,
     "metadata": {},
     "output_type": "execute_result"
    }
   ],
   "source": [
    "valor=suma_numeros(4,5)\n",
    "valor"
   ]
  },
  {
   "cell_type": "code",
   "execution_count": 13,
   "id": "cfe7cc0f",
   "metadata": {},
   "outputs": [
    {
     "data": {
      "text/plain": [
       "9"
      ]
     },
     "execution_count": 13,
     "metadata": {},
     "output_type": "execute_result"
    }
   ],
   "source": [
    "# También podemos hacer esto\n",
    "resultado = suma_numeros(4,5)\n",
    "resultado"
   ]
  },
  {
   "cell_type": "code",
   "execution_count": null,
   "id": "ebf1a4d4",
   "metadata": {},
   "outputs": [],
   "source": [
    "# ¿Y si le metemos strings a suma_numeros?\n",
    "suma_numeros('uno','dos')"
   ]
  },
  {
   "cell_type": "code",
   "execution_count": null,
   "id": "745b0d95",
   "metadata": {},
   "outputs": [],
   "source": [
    "suma_numeros('uno',4)"
   ]
  },
  {
   "cell_type": "code",
   "execution_count": 14,
   "id": "f1ff6e83",
   "metadata": {},
   "outputs": [],
   "source": [
    "# Vamos a hacer una función que chequea si un número de una lista es par\n",
    "# Para ello tenemos en cuenta que el módulo de un número par dividido entre 2 es igual a 0.\n",
    "def es_par(lista_numeros):\n",
    "    for numero in lista_numeros:\n",
    "            if numero % 2 == 0:\n",
    "                # si esta condición se cumple con return nos salimos de la lista\n",
    "                return True\n",
    "            else:\n",
    "                pass"
   ]
  },
  {
   "cell_type": "code",
   "execution_count": 15,
   "id": "977bf174",
   "metadata": {},
   "outputs": [
    {
     "data": {
      "text/plain": [
       "True"
      ]
     },
     "execution_count": 15,
     "metadata": {},
     "output_type": "execute_result"
    }
   ],
   "source": [
    "es_par([1,2,3])"
   ]
  },
  {
   "cell_type": "code",
   "execution_count": 18,
   "id": "08813e52",
   "metadata": {},
   "outputs": [],
   "source": [
    "# Sin embargo, si son todos impares no devuelve nada\n",
    "es_par([1,3])"
   ]
  },
  {
   "cell_type": "code",
   "execution_count": 22,
   "id": "42ef0372",
   "metadata": {},
   "outputs": [],
   "source": [
    "# Para corregirlo, podemos pensar que si añadirmos un return False, no? ¿Pero qué pasa si lo añadimos?\n",
    "def es_par(lista_numeros):\n",
    "    for numero in lista_numeros:\n",
    "            if numero % 2 == 0:\n",
    "                # si esta condición se cumple con return nos salimos de la lista\n",
    "                return True\n",
    "            else:\n",
    "                return False"
   ]
  },
  {
   "cell_type": "code",
   "execution_count": 23,
   "id": "cf8999f8",
   "metadata": {},
   "outputs": [
    {
     "data": {
      "text/plain": [
       "False"
      ]
     },
     "execution_count": 23,
     "metadata": {},
     "output_type": "execute_result"
    }
   ],
   "source": [
    "# Como el primero es impar, sale del bucle y ya no mira nada más\n",
    "es_par([1,2,3])"
   ]
  },
  {
   "cell_type": "code",
   "execution_count": 20,
   "id": "9d6b233d",
   "metadata": {},
   "outputs": [],
   "source": [
    "# Esta sería una solución correcta\n",
    "def es_par(lista_numeros):\n",
    "    for numero in lista_numeros:\n",
    "            if numero % 2 == 0:\n",
    "                # si esta condición se cumple con return nos salimos de la lista\n",
    "                return True\n",
    "            else:\n",
    "                pass\n",
    "    # Cuando acaba de comprobar TODA la lista ahí sale del bloque\n",
    "    return False #Se saca del bucle"
   ]
  },
  {
   "cell_type": "code",
   "execution_count": 21,
   "id": "606cef62",
   "metadata": {},
   "outputs": [
    {
     "data": {
      "text/plain": [
       "True"
      ]
     },
     "execution_count": 21,
     "metadata": {},
     "output_type": "execute_result"
    }
   ],
   "source": [
    "es_par([1,2,3])"
   ]
  },
  {
   "cell_type": "code",
   "execution_count": 24,
   "id": "cdca8ff7",
   "metadata": {},
   "outputs": [
    {
     "data": {
      "text/plain": [
       "False"
      ]
     },
     "execution_count": 24,
     "metadata": {},
     "output_type": "execute_result"
    }
   ],
   "source": [
    "es_par([1,3,7])"
   ]
  },
  {
   "cell_type": "code",
   "execution_count": 25,
   "id": "4a457f82",
   "metadata": {},
   "outputs": [],
   "source": [
    "# Ahora vamos a por un ejemplo un poco más complicado. Queremos que nos devuelva TODOS los numeros pares en un lista. \n",
    "# Si no hay números pares, nos va a devolver la lista vacía\n",
    "def es_par(lista_numeros):\n",
    "    # Creamos una lista vacía\n",
    "    lista_pares = []\n",
    "    # Parseamos cada elemento de nuestro input:\n",
    "    for numero in lista_numeros:\n",
    "        if numero % 2 == 0:\n",
    "            # Si esto es verdad, añadimos nuestro elemento a la lista\n",
    "            lista_pares.append(numero)\n",
    "        else:\n",
    "            pass\n",
    "    return lista_pares"
   ]
  },
  {
   "cell_type": "code",
   "execution_count": 26,
   "id": "640e5c75",
   "metadata": {},
   "outputs": [
    {
     "data": {
      "text/plain": [
       "[2, 4, 6]"
      ]
     },
     "execution_count": 26,
     "metadata": {},
     "output_type": "execute_result"
    }
   ],
   "source": [
    "es_par([1,2,3,4,5,6])"
   ]
  },
  {
   "cell_type": "code",
   "execution_count": 27,
   "id": "18484a02",
   "metadata": {},
   "outputs": [
    {
     "data": {
      "text/plain": [
       "[]"
      ]
     },
     "execution_count": 27,
     "metadata": {},
     "output_type": "execute_result"
    }
   ],
   "source": [
    "es_par([1,3,5,7,9])"
   ]
  },
  {
   "cell_type": "code",
   "execution_count": 28,
   "id": "3ae5f1fb",
   "metadata": {
    "scrolled": true
   },
   "outputs": [
    {
     "data": {
      "text/plain": [
       "[' ', ' ', 'O']"
      ]
     },
     "execution_count": 28,
     "metadata": {},
     "output_type": "execute_result"
    }
   ],
   "source": [
    "# Vamos a crear ahora un pequeño juego. El jugador debe adivinar dónde está la letra \"O\"\n",
    "# Empezamos creando una lista con tres elementos dónde la \"O\" se pone de forma aleatoria\n",
    "from random import shuffle\n",
    "mi_lista = [' ','O',' ']\n",
    "def desordenar_lista(lista):\n",
    "    shuffle(lista)\n",
    "    return lista\n",
    "\n",
    "desordenar_lista(mi_lista)\n",
    "mi_lista"
   ]
  },
  {
   "cell_type": "code",
   "execution_count": 29,
   "id": "a11e5406",
   "metadata": {},
   "outputs": [],
   "source": [
    "# Ahora el jugador tiene que adivinar dónde está. Para ello hacemos una función\n",
    "def adivinacion():\n",
    "    intento = ''\n",
    "    while intento not in ['0','1','2']:\n",
    "        intento = input(\"Esocoje un número: 0, 1, 2: \")\n",
    "    return int(intento)"
   ]
  },
  {
   "cell_type": "code",
   "execution_count": 32,
   "id": "a8c6b138",
   "metadata": {},
   "outputs": [
    {
     "name": "stdin",
     "output_type": "stream",
     "text": [
      "Esocoje un número: 0, 1, 2:  6\n",
      "Esocoje un número: 0, 1, 2:  1\n"
     ]
    },
    {
     "data": {
      "text/plain": [
       "1"
      ]
     },
     "execution_count": 32,
     "metadata": {},
     "output_type": "execute_result"
    }
   ],
   "source": [
    "adivinacion()"
   ]
  },
  {
   "cell_type": "code",
   "execution_count": 33,
   "id": "01ac8460",
   "metadata": {},
   "outputs": [],
   "source": [
    "# Ahora comprobamos el intento\n",
    "def comprobacion(lista,intento):\n",
    "    if lista[intento] == 'O':\n",
    "        print('¡Has acertado!')\n",
    "    else:\n",
    "        print('¡Has fallado! Suerte para la próxima')\n",
    "        print(lista)"
   ]
  },
  {
   "cell_type": "code",
   "execution_count": 38,
   "id": "e3079352",
   "metadata": {
    "scrolled": true
   },
   "outputs": [
    {
     "name": "stdin",
     "output_type": "stream",
     "text": [
      "Esocoje un número: 0, 1, 2:  2\n"
     ]
    },
    {
     "name": "stdout",
     "output_type": "stream",
     "text": [
      "¡Has fallado! Suerte para la próxima\n",
      "[' ', 'O', ' ']\n"
     ]
    }
   ],
   "source": [
    "# Ahora vamos a juntarlo todo\n",
    "mi_lista = [' ','O',' ']\n",
    "lista_desordenada=desordenar_lista(mi_lista)\n",
    "intento = adivinacion()\n",
    "comprobacion(lista_desordenada,intento)\n"
   ]
  },
  {
   "cell_type": "markdown",
   "id": "92e81fa5",
   "metadata": {},
   "source": [
    "### Ejercicios de Funciones"
   ]
  },
  {
   "cell_type": "markdown",
   "id": "1d4f18ca",
   "metadata": {},
   "source": [
    "#### 1.- El menor de dos pares. Escribe una función que devuelva el menor de dos números, SOLAMENTE si los dos números son pares. En caso de que uno de los dos, o los dos, sean impares, devuelve el número más alto"
   ]
  },
  {
   "cell_type": "code",
   "execution_count": 73,
   "id": "e0fca717-1136-4630-b157-e3f8c4a9a1c9",
   "metadata": {},
   "outputs": [],
   "source": [
    "def menor_de_dos_pares (a,b):\n",
    "    if a %2==0 and b%2==0:\n",
    "        return min(a,b)\n",
    "    else:\n",
    "        return max(a,b)"
   ]
  },
  {
   "cell_type": "code",
   "execution_count": null,
   "id": "94753d1e-9461-485d-944a-125dc8f44f1c",
   "metadata": {},
   "outputs": [],
   "source": [
    "#también se podría hacer marcando la condición de par y luego if a>b..."
   ]
  },
  {
   "cell_type": "code",
   "execution_count": 74,
   "id": "0bdc16c3-3bab-4bef-ab72-dd2226972f5e",
   "metadata": {},
   "outputs": [
    {
     "data": {
      "text/plain": [
       "2"
      ]
     },
     "execution_count": 74,
     "metadata": {},
     "output_type": "execute_result"
    }
   ],
   "source": [
    "menor_de_dos_pares(2,4)"
   ]
  },
  {
   "cell_type": "markdown",
   "id": "253087f6",
   "metadata": {},
   "source": [
    "#### 2.- Escribe una función que tome como argumento una string de dos palabras y devuelva True si ambas empiezan por la misma letra"
   ]
  },
  {
   "cell_type": "code",
   "execution_count": 76,
   "id": "591b0887-16f7-4c73-a37f-8c11b6860bcc",
   "metadata": {},
   "outputs": [],
   "source": [
    "def misma_letra (palabra1,palabra2): #deberiamos poner cadena de texto y no dos palabras separadas como en chat\n",
    "    if palabra1[0].lower()==palabra2[0].lower():  #tenemos que poner las dos en minusculas o en mayusculas\n",
    "        return True\n",
    "    else:\n",
    "        return False"
   ]
  },
  {
   "cell_type": "code",
   "execution_count": 78,
   "id": "054f46f4-fd4e-4f4e-9447-2173da53e94e",
   "metadata": {},
   "outputs": [],
   "source": [
    "def misma_palabra(frase):\n",
    "    lista_palabras=frase.split()\n",
    "    if len (lista_palabras)==2:\n",
    "        if lista_palabras [0][0].lower()== lista_palabras[1][0].lower():\n",
    "            return True\n",
    "        else:\n",
    "            print(\"las palabras no empiezan por la misma letra\")\n",
    "    else:\n",
    "        print(\"ERROR\")"
   ]
  },
  {
   "cell_type": "code",
   "execution_count": 80,
   "id": "c67b968e-b788-4733-9a8a-774617dc4027",
   "metadata": {},
   "outputs": [
    {
     "name": "stdout",
     "output_type": "stream",
     "text": [
      "las palabras no empiezan por la misma letra\n"
     ]
    }
   ],
   "source": [
    "frase=\"hola buenas\"\n",
    "misma_palabra(frase)"
   ]
  },
  {
   "cell_type": "code",
   "execution_count": 77,
   "id": "20454080-e7b4-463b-9634-96d5bc9f67b1",
   "metadata": {},
   "outputs": [
    {
     "data": {
      "text/plain": [
       "True"
      ]
     },
     "execution_count": 77,
     "metadata": {},
     "output_type": "execute_result"
    }
   ],
   "source": [
    "misma_letra (\"Hola\",\"Hermana\")"
   ]
  },
  {
   "cell_type": "markdown",
   "id": "7db0e184",
   "metadata": {},
   "source": [
    "#### 3.- Escribe una función que tome dos números enteros y que devuelva True si la suma de los dos es 20, o si uno de los dos es 20. Que devuelva Falso si no."
   ]
  },
  {
   "cell_type": "code",
   "execution_count": 43,
   "id": "ebbe865b-ea49-433f-90d1-2d3869ea64c9",
   "metadata": {},
   "outputs": [],
   "source": [
    "def suma_veinte (a,b):\n",
    "    if (a+b==20) or (a==20) or (b==20): #podria hacerse con un if, un elif y un else\n",
    "        return True\n",
    "    else :\n",
    "        return False"
   ]
  },
  {
   "cell_type": "code",
   "execution_count": 47,
   "id": "12caf300-e93a-486e-9301-e4e7a58df86b",
   "metadata": {},
   "outputs": [
    {
     "data": {
      "text/plain": [
       "True"
      ]
     },
     "execution_count": 47,
     "metadata": {},
     "output_type": "execute_result"
    }
   ],
   "source": [
    "suma_veinte(20,2)"
   ]
  },
  {
   "cell_type": "markdown",
   "id": "406eb793",
   "metadata": {},
   "source": [
    "#### 4.- Escribe una función que devuelva en mayúsculas la primera letra y la quinta letra de una palabra. Pista: usa capitalize()"
   ]
  },
  {
   "cell_type": "code",
   "execution_count": 85,
   "id": "d8038470-e6b4-4dbe-bb4c-3800258bed95",
   "metadata": {},
   "outputs": [],
   "source": [
    "def mayusculas (palabra):\n",
    "    if len(palabra)< 5:\n",
    "       print (\"ERROR: la palabra tiene que tener minimo 5 letras\")\n",
    "    else:\n",
    "        palabra_lower=palabra.lower()\n",
    "        primera_parte= palabra[0:4].capitalize()\n",
    "        segunda_parte= palabra [4:].capitalize()\n",
    "        lista_final= primera_parte + segunda_parte\n",
    "        return lista_final"
   ]
  },
  {
   "cell_type": "code",
   "execution_count": 84,
   "id": "3a4d240e-1081-4e4b-8933-13e0f5bb364b",
   "metadata": {},
   "outputs": [
    {
     "data": {
      "text/plain": [
       "'LechE'"
      ]
     },
     "execution_count": 84,
     "metadata": {},
     "output_type": "execute_result"
    }
   ],
   "source": [
    "mayusculas(\"leche\")"
   ]
  },
  {
   "cell_type": "markdown",
   "id": "9f8b992e",
   "metadata": {},
   "source": [
    "#### 5.- Escribe una función que devuelva una frase invertida."
   ]
  },
  {
   "cell_type": "code",
   "execution_count": 61,
   "id": "72b35a85-891d-47a1-9830-7e7c0216dc81",
   "metadata": {},
   "outputs": [],
   "source": [
    "def invertir_frase(frase):\n",
    "    return frase[::-1] #para cambiar el orden de las palabras hacemos split y dividimos la frase "
   ]
  },
  {
   "cell_type": "code",
   "execution_count": 65,
   "id": "44a47108-1696-44eb-9529-7d54b73e2113",
   "metadata": {
    "scrolled": true
   },
   "outputs": [
    {
     "data": {
      "text/plain": [
       "'esarf al se atse'"
      ]
     },
     "execution_count": 65,
     "metadata": {},
     "output_type": "execute_result"
    }
   ],
   "source": [
    "invertir_frase (\"esta es la frase\")"
   ]
  },
  {
   "cell_type": "markdown",
   "id": "784b3ec2",
   "metadata": {},
   "source": [
    "#### 6.- Dada una lista de enteros, devuelve True si contiene un 3 al lado de otro 3"
   ]
  },
  {
   "cell_type": "code",
   "execution_count": null,
   "id": "1da7c6dd-a8e9-4a8f-a1b4-007dfb14704f",
   "metadata": {},
   "outputs": [],
   "source": [
    "def lista_tres(numeros):\n",
    "    for i in range (0,len(lista)+1\n",
    "                    if "
   ]
  },
  {
   "cell_type": "code",
   "execution_count": null,
   "id": "74646980-3f6d-4d83-baed-d5569ed60b17",
   "metadata": {},
   "outputs": [],
   "source": []
  },
  {
   "cell_type": "markdown",
   "id": "2f3d3dea",
   "metadata": {},
   "source": [
    "#### 7.- Escribe una función que busque numeros primos. "
   ]
  },
  {
   "cell_type": "code",
   "execution_count": 86,
   "id": "9df3310b-e1c6-4aa1-8d47-0e2a1237f886",
   "metadata": {},
   "outputs": [
    {
     "ename": "SyntaxError",
     "evalue": "expected ':' (2174702207.py, line 4)",
     "output_type": "error",
     "traceback": [
      "\u001b[0;36m  Cell \u001b[0;32mIn[86], line 4\u001b[0;36m\u001b[0m\n\u001b[0;31m    if num<1==0\u001b[0m\n\u001b[0m               ^\u001b[0m\n\u001b[0;31mSyntaxError\u001b[0m\u001b[0;31m:\u001b[0m expected ':'\n"
     ]
    }
   ],
   "source": [
    "def es_primo(num):\n",
    "    primo=True\n",
    "    for i in range (2,num):\n",
    "        if num < 1==0\n",
    "        print(\"no es primo\")\n",
    "        primo=false\n",
    "        break\n",
    "    else:\n",
    "        continue\n",
    "    return primo"
   ]
  },
  {
   "cell_type": "code",
   "execution_count": null,
   "id": "7dd32111-7c18-4977-94ed-ceb6dc59ddf4",
   "metadata": {},
   "outputs": [],
   "source": []
  },
  {
   "cell_type": "markdown",
   "id": "66eec5ea",
   "metadata": {},
   "source": [
    "#### 8.- Juego de espías. Escribe una función que encuentre la secuencia 007 en una lista"
   ]
  },
  {
   "cell_type": "code",
   "execution_count": null,
   "id": "4cc4ee29-0ed9-4298-b9d8-33df59511cc1",
   "metadata": {},
   "outputs": [],
   "source": []
  },
  {
   "cell_type": "code",
   "execution_count": null,
   "id": "87abb134-22a2-4442-a67b-e123aa398922",
   "metadata": {},
   "outputs": [],
   "source": []
  },
  {
   "cell_type": "markdown",
   "id": "4e8f6489",
   "metadata": {},
   "source": [
    "#### 9.- Juego de BLACKJACK. Dados tres numeros enteros entre el 1 y el 11, si su suma es menor o igual que 21, devuelve su suma. Si su suma es mayor que 21 y hay un 11, resta 10 al total de la suma. Finalmente, si con el ajuste es mayor que 21, se devuelve BUST.\n",
    "##### 5,6,7 =18\n",
    "##### 9,9,9 = BUST\n",
    "##### 9,9,11 = 19"
   ]
  },
  {
   "cell_type": "code",
   "execution_count": null,
   "id": "28216c99-b623-4e96-9ab3-59958afa7687",
   "metadata": {},
   "outputs": [],
   "source": []
  },
  {
   "cell_type": "code",
   "execution_count": null,
   "id": "2bc166ac-6205-4d0d-9bdb-e4c65867ab1f",
   "metadata": {},
   "outputs": [],
   "source": []
  }
 ],
 "metadata": {
  "kernelspec": {
   "display_name": "Python [conda env:base] *",
   "language": "python",
   "name": "conda-base-py"
  },
  "language_info": {
   "codemirror_mode": {
    "name": "ipython",
    "version": 3
   },
   "file_extension": ".py",
   "mimetype": "text/x-python",
   "name": "python",
   "nbconvert_exporter": "python",
   "pygments_lexer": "ipython3",
   "version": "3.13.5"
  }
 },
 "nbformat": 4,
 "nbformat_minor": 5
}
